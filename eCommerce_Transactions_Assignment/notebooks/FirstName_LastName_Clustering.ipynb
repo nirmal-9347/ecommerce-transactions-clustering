{
 "cells": [
  {
   "cell_type": "code",
   "execution_count": 3,
   "id": "71a4fb4d-f327-4e75-8350-7b549b7053ea",
   "metadata": {},
   "outputs": [
    {
     "ename": "NameError",
     "evalue": "name 'normalized_data' is not defined",
     "output_type": "error",
     "traceback": [
      "\u001b[1;31m---------------------------------------------------------------------------\u001b[0m",
      "\u001b[1;31mNameError\u001b[0m                                 Traceback (most recent call last)",
      "Cell \u001b[1;32mIn[3], line 8\u001b[0m\n\u001b[0;32m      6\u001b[0m \u001b[38;5;66;03m# Apply KMeans clustering\u001b[39;00m\n\u001b[0;32m      7\u001b[0m kmeans \u001b[38;5;241m=\u001b[39m KMeans(n_clusters\u001b[38;5;241m=\u001b[39m\u001b[38;5;241m4\u001b[39m, random_state\u001b[38;5;241m=\u001b[39m\u001b[38;5;241m42\u001b[39m)\n\u001b[1;32m----> 8\u001b[0m customer_profiles[\u001b[38;5;124m'\u001b[39m\u001b[38;5;124mCluster\u001b[39m\u001b[38;5;124m'\u001b[39m] \u001b[38;5;241m=\u001b[39m kmeans\u001b[38;5;241m.\u001b[39mfit_predict(\u001b[43mnormalized_data\u001b[49m)\n\u001b[0;32m     10\u001b[0m \u001b[38;5;66;03m# Calculate Davies-Bouldin Index\u001b[39;00m\n\u001b[0;32m     11\u001b[0m db_index \u001b[38;5;241m=\u001b[39m davies_bouldin_score(normalized_data, customer_profiles[\u001b[38;5;124m'\u001b[39m\u001b[38;5;124mCluster\u001b[39m\u001b[38;5;124m'\u001b[39m])\n",
      "\u001b[1;31mNameError\u001b[0m: name 'normalized_data' is not defined"
     ]
    }
   ],
   "source": [
    "from sklearn.cluster import KMeans\n",
    "from sklearn.metrics import davies_bouldin_score\n",
    "from sklearn.decomposition import PCA\n",
    "import matplotlib.pyplot as plt\n",
    "\n",
    "# Apply KMeans clustering\n",
    "kmeans = KMeans(n_clusters=4, random_state=42)\n",
    "customer_profiles['Cluster'] = kmeans.fit_predict(normalized_data)\n",
    "\n",
    "# Calculate Davies-Bouldin Index\n",
    "db_index = davies_bouldin_score(normalized_data, customer_profiles['Cluster'])\n",
    "print(f'Davies-Bouldin Index: {db_index}')\n",
    "\n",
    "# Visualize clusters using PCA\n",
    "pca = PCA(n_components=2)\n",
    "reduced_data = pca.fit_transform(normalized_data)\n",
    "\n",
    "plt.scatter(reduced_data[:, 0], reduced_data[:, 1], c=customer_profiles['Cluster'], cmap='viridis')\n",
    "plt.title('Customer Segments')\n",
    "plt.xlabel('PCA Component 1')\n",
    "plt.ylabel('PCA Component 2')\n",
    "plt.show()\n"
   ]
  },
  {
   "cell_type": "code",
   "execution_count": null,
   "id": "175a7b51-ef66-4e98-ba2b-6165720c6037",
   "metadata": {},
   "outputs": [],
   "source": []
  }
 ],
 "metadata": {
  "kernelspec": {
   "display_name": "Python 3 (ipykernel)",
   "language": "python",
   "name": "python3"
  },
  "language_info": {
   "codemirror_mode": {
    "name": "ipython",
    "version": 3
   },
   "file_extension": ".py",
   "mimetype": "text/x-python",
   "name": "python",
   "nbconvert_exporter": "python",
   "pygments_lexer": "ipython3",
   "version": "3.13.1"
  }
 },
 "nbformat": 4,
 "nbformat_minor": 5
"LOOK AT THE FirstName_LastName_EDA.ipynb"
}
